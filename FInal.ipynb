{
  "nbformat": 4,
  "nbformat_minor": 0,
  "metadata": {
    "colab": {
      "provenance": [],
      "include_colab_link": true
    },
    "kernelspec": {
      "name": "python3",
      "display_name": "Python 3"
    },
    "language_info": {
      "name": "python"
    }
  },
  "cells": [
    {
      "cell_type": "markdown",
      "metadata": {
        "id": "view-in-github",
        "colab_type": "text"
      },
      "source": [
        "<a href=\"https://colab.research.google.com/github/Ecmunn/Mie-458/blob/main/FInal.ipynb\" target=\"_parent\"><img src=\"https://colab.research.google.com/assets/colab-badge.svg\" alt=\"Open In Colab\"/></a>"
      ]
    },
    {
      "cell_type": "markdown",
      "source": [
        "### 🚀 Deploying a Pickle Model with Streamlit\n",
        "\n",
        "Streamlit is a powerful tool for turning your machine learning models into interactive web applications. If you have a trained model saved as a `.pkl` (pickle) file, follow these steps to deploy it using Streamlit:\n",
        "\n",
        "---\n",
        "\n",
        "### 🛠️ Deployment Steps\n",
        "\n",
        "1. **Prepare Your Model**  \n",
        "   Train your machine learning model and save it as a `.pkl` file using Python's `pickle` module.\n",
        "\n",
        "2. **Set Up Your Streamlit App**  \n",
        "   Create a Python script (e.g., `app.py`) that will serve as your Streamlit app. In this script, you'll load the pickle file, accept user inputs, and display predictions.\n",
        "\n",
        "3. **Load the Model**  \n",
        "   In the Streamlit app, load the pickle file and make sure the inputs are processed to match the model’s expected format.\n",
        "\n",
        "4. **Build the User Interface**  \n",
        "   Use Streamlit widgets (e.g., sliders, dropdowns, checkboxes) to gather input data from users in an intuitive way.\n",
        "\n",
        "5. **Make Predictions**  \n",
        "   When the user submits input, pass the data to the model and display the prediction.\n",
        "\n",
        "6. **Run the App Locally**  \n",
        "   Launch the app from the command line using:  \n",
        "   `streamlit run app.py`\n",
        "\n",
        "7. **Deploy Online**  \n",
        "   Upload your app and model files to [Streamlit Community Cloud](https://streamlit.io/cloud) or another hosting platform. Add a `requirements.txt` file listing necessary Python packages.\n",
        "\n",
        "---\n",
        "\n",
        "### ✅ Notes\n",
        "\n",
        "- Ensure your model and input features align in structure and encoding.\n",
        "- Use caching (`st.cache_resource`) to optimize performance when loading large models.\n",
        "- Test locally before deploying to the cloud.\n"
      ],
      "metadata": {
        "id": "TTCIUNsak0cP"
      }
    },
    {
      "cell_type": "code",
      "execution_count": null,
      "metadata": {
        "colab": {
          "base_uri": "https://localhost:8080/"
        },
        "id": "eKrMv-8ri3DO",
        "outputId": "5da90165-f804-4309-9c7a-7673f58557fc"
      },
      "outputs": [
        {
          "output_type": "stream",
          "name": "stdout",
          "text": [
            "Mounted at /content/drive\n"
          ]
        }
      ],
      "source": [
        "from google.colab import drive\n",
        "drive.mount('/content/drive')\n"
      ]
    },
    {
      "cell_type": "code",
      "source": [
        "import pandas as pd\n",
        "\n",
        "# Load the Kaggle survey data\n",
        "df = pd.read_csv('/content/kaggle_survey_2022_responses.csv', skiprows=1)\n",
        "df.columns = df.columns.str.strip()\n",
        "\n",
        "# Select the right columns\n",
        "df_subset = df[[\n",
        "    'What is the highest level of formal education that you have attained or plan to attain within the next 2 years?',\n",
        "    'For how many years have you been writing code and/or programming?',\n",
        "    'In which country do you currently reside?',\n",
        "    'What programming languages do you use on a regular basis? (Select all that apply) - Selected Choice - Java',\n",
        "    'What programming languages do you use on a regular basis? (Select all that apply) - Selected Choice - Python',\n",
        "    'What programming languages do you use on a regular basis? (Select all that apply) - Selected Choice - SQL',\n",
        "    'What programming languages do you use on a regular basis? (Select all that apply) - Selected Choice - Go',\n",
        "    'What is your current yearly compensation (approximate $USD)?'\n",
        "]]\n",
        "\n",
        "# Rename columns nicely\n",
        "df_subset.columns = [\n",
        "    'Education', 'Years_Coding', 'Country',\n",
        "    'Codes_In_Java', 'Codes_In_Python', 'Codes_In_SQL', 'Codes_In_GO',\n",
        "    'Salary'\n",
        "]\n",
        "\n",
        "# Map Education for Kaggle dataset\n",
        "education_mapping_kaggle = {\n",
        "    \"No formal education past high school\": 0,\n",
        "    \"Some college/university study without earning a bachelor’s degree\": 0,\n",
        "    \"Bachelor’s degree\": 1,\n",
        "    \"Master’s degree\": 2,\n",
        "    \"Doctoral degree\": 3,\n",
        "    \"Professional doctorate\": 3,\n",
        "    \"I prefer not to answer\": None\n",
        "}\n",
        "df_subset['Education'] = df_subset['Education'].map(education_mapping_kaggle)\n",
        "\n",
        "# Clean language coding columns into 0 or 1\n",
        "for col in ['Codes_In_Java', 'Codes_In_Python', 'Codes_In_SQL', 'Codes_In_GO']:\n",
        "    df_subset[col] = df_subset[col].apply(lambda x: 1 if pd.notna(x) else 0)\n",
        "\n",
        "# Clean salary (convert ranges to midpoints)\n",
        "def clean_salary_kaggle(sal):\n",
        "    if isinstance(sal, str):\n",
        "        sal = sal.replace('$', '').replace(',', '')\n",
        "        if '-' in sal:\n",
        "            low, high = sal.split('-')\n",
        "            return (float(low) + float(high)) / 2\n",
        "        elif sal.isdigit():\n",
        "            return float(sal)\n",
        "    return None\n",
        "\n",
        "df_subset['Salary'] = df_subset['Salary'].apply(clean_salary_kaggle)\n",
        "\n",
        "# Drop rows with missing values\n",
        "df_subset = df_subset.dropna()\n",
        "\n",
        "# Show the final clean dataset\n",
        "print(df_subset.head())\n"
      ],
      "metadata": {
        "colab": {
          "base_uri": "https://localhost:8080/"
        },
        "id": "HF5M6_4cjrb8",
        "outputId": "7eac2923-80e7-497b-a4f9-c3c999203e00"
      },
      "execution_count": 38,
      "outputs": [
        {
          "output_type": "stream",
          "name": "stderr",
          "text": [
            "<ipython-input-38-affc9c9c90fa>:4: DtypeWarning: Columns (208,225,255,257,260,270,271,277) have mixed types. Specify dtype option on import or set low_memory=False.\n",
            "  df = pd.read_csv('/content/kaggle_survey_2022_responses.csv', skiprows=1)\n"
          ]
        },
        {
          "output_type": "stream",
          "name": "stdout",
          "text": [
            "    Education Years_Coding                   Country  Codes_In_Java  \\\n",
            "3         0.0  10-20 years                    France              0   \n",
            "7         1.0  10-20 years                   Germany              1   \n",
            "8         3.0    20+ years                 Australia              0   \n",
            "13        3.0  10-20 years  United States of America              0   \n",
            "16        2.0  10-20 years  United States of America              0   \n",
            "\n",
            "    Codes_In_Python  Codes_In_SQL  Codes_In_GO    Salary  \n",
            "3                 1             1            0   27499.5  \n",
            "7                 1             1            0  112499.5  \n",
            "8                 1             0            0  112499.5  \n",
            "13                1             1            0  224999.5  \n",
            "16                1             1            0  224999.5  \n"
          ]
        },
        {
          "output_type": "stream",
          "name": "stderr",
          "text": [
            "<ipython-input-38-affc9c9c90fa>:36: SettingWithCopyWarning: \n",
            "A value is trying to be set on a copy of a slice from a DataFrame.\n",
            "Try using .loc[row_indexer,col_indexer] = value instead\n",
            "\n",
            "See the caveats in the documentation: https://pandas.pydata.org/pandas-docs/stable/user_guide/indexing.html#returning-a-view-versus-a-copy\n",
            "  df_subset['Education'] = df_subset['Education'].map(education_mapping_kaggle)\n",
            "<ipython-input-38-affc9c9c90fa>:40: SettingWithCopyWarning: \n",
            "A value is trying to be set on a copy of a slice from a DataFrame.\n",
            "Try using .loc[row_indexer,col_indexer] = value instead\n",
            "\n",
            "See the caveats in the documentation: https://pandas.pydata.org/pandas-docs/stable/user_guide/indexing.html#returning-a-view-versus-a-copy\n",
            "  df_subset[col] = df_subset[col].apply(lambda x: 1 if pd.notna(x) else 0)\n",
            "<ipython-input-38-affc9c9c90fa>:53: SettingWithCopyWarning: \n",
            "A value is trying to be set on a copy of a slice from a DataFrame.\n",
            "Try using .loc[row_indexer,col_indexer] = value instead\n",
            "\n",
            "See the caveats in the documentation: https://pandas.pydata.org/pandas-docs/stable/user_guide/indexing.html#returning-a-view-versus-a-copy\n",
            "  df_subset['Salary'] = df_subset['Salary'].apply(clean_salary_kaggle)\n"
          ]
        }
      ]
    },
    {
      "cell_type": "code",
      "source": [
        "from sklearn.model_selection import train_test_split\n",
        "from sklearn.linear_model import LinearRegression\n",
        "from sklearn.metrics import mean_squared_error, r2_score\n",
        "import numpy as np\n",
        "import pandas as pd\n",
        "\n",
        "# Step 1: Clean up Years_Coding\n",
        "def clean_years(x):\n",
        "    if isinstance(x, str):\n",
        "        if '10-20' in x:\n",
        "            return 15\n",
        "        if '20+' in x:\n",
        "            return 25\n",
        "        if '5-10' in x:\n",
        "            return 7.5\n",
        "        if '3-5' in x:\n",
        "            return 4\n",
        "        if '1-3' in x:\n",
        "            return 2\n",
        "        if '< 1' in x:\n",
        "            return 0.5\n",
        "        if 'I have never written code' in x:\n",
        "            return 0\n",
        "    return x\n",
        "\n",
        "df_subset['Years_Coding'] = df_subset['Years_Coding'].apply(clean_years)\n",
        "\n",
        "# Step 2: One-hot encode Country\n",
        "df_subset = pd.get_dummies(df_subset, columns=['Country'], drop_first=True)\n",
        "\n",
        "# Step 3: Prepare X and y\n",
        "X = df_subset.drop(columns=['Salary'])\n",
        "y = df_subset['Salary']\n",
        "\n",
        "# Step 4: Drop any remaining missing data\n",
        "X = X.dropna()\n",
        "y = y.loc[X.index]\n",
        "\n",
        "# Step 5: Train/test split\n",
        "X_train, X_test, y_train, y_test = train_test_split(X, y, test_size=0.2, random_state=42)\n",
        "\n",
        "# Step 6: Train Linear Regression model\n",
        "linreg = LinearRegression()\n",
        "linreg.fit(X_train, y_train)\n",
        "\n",
        "# Step 7: Predict and evaluate\n",
        "y_pred = linreg.predict(X_test)\n",
        "\n",
        "rmse = np.sqrt(mean_squared_error(y_test, y_pred))\n",
        "r2 = r2_score(y_test, y_pred)\n",
        "\n",
        "print(f\"Linear Regression Model Results:\")\n",
        "print(f\"RMSE: {rmse:.2f}\")\n",
        "print(f\"R²: {r2:.3f}\")"
      ],
      "metadata": {
        "colab": {
          "base_uri": "https://localhost:8080/"
        },
        "id": "j60kl2grqqOT",
        "outputId": "9116d365-c3f9-46f9-9612-6b5c27c62081"
      },
      "execution_count": 39,
      "outputs": [
        {
          "output_type": "stream",
          "name": "stdout",
          "text": [
            "Linear Regression Model Results:\n",
            "RMSE: 66652.85\n",
            "R²: 0.354\n"
          ]
        }
      ]
    },
    {
      "cell_type": "code",
      "source": [
        "from sklearn.tree import DecisionTreeRegressor\n",
        "from sklearn.model_selection import train_test_split\n",
        "from sklearn.metrics import mean_squared_error, r2_score\n",
        "import numpy as np\n",
        "\n",
        "# Step 1: (Assuming df_subset is already cleaned and one-hot encoded)\n",
        "\n",
        "# Step 2: Prepare X and y\n",
        "X = df_subset.drop(columns=['Salary'])\n",
        "y = df_subset['Salary']\n",
        "\n",
        "# Step 3: Drop any missing data\n",
        "X = X.dropna()\n",
        "y = y.loc[X.index]\n",
        "\n",
        "# Step 4: Train/test split\n",
        "X_train, X_test, y_train, y_test = train_test_split(X, y, test_size=0.2, random_state=42)\n",
        "\n",
        "# Step 5: Train Decision Tree model\n",
        "tree_model = DecisionTreeRegressor(random_state=42)\n",
        "tree_model.fit(X_train, y_train)\n",
        "\n",
        "# Step 6: Predict and evaluate\n",
        "y_pred = tree_model.predict(X_test)\n",
        "\n",
        "rmse = np.sqrt(mean_squared_error(y_test, y_pred))\n",
        "r2 = r2_score(y_test, y_pred)\n",
        "\n",
        "print(f\"Decision Tree Model Results:\")\n",
        "print(f\"RMSE: {rmse:.2f}\")\n",
        "print(f\"R²: {r2:.3f}\")\n",
        "\n"
      ],
      "metadata": {
        "id": "EDdlpfA5i4it",
        "colab": {
          "base_uri": "https://localhost:8080/"
        },
        "outputId": "bf301c28-2b5c-45c7-f124-028f1051691f"
      },
      "execution_count": 34,
      "outputs": [
        {
          "output_type": "stream",
          "name": "stdout",
          "text": [
            "Decision Tree Model Results:\n",
            "RMSE: 79853.80\n",
            "R²: 0.072\n"
          ]
        }
      ]
    },
    {
      "cell_type": "code",
      "source": [
        "import numpy as np\n",
        "from sklearn.linear_model import Lasso\n",
        "from sklearn.metrics import mean_squared_error, r2_score\n",
        "\n",
        "# Already have:\n",
        "# - X_train, X_test\n",
        "# - y_train, y_test\n",
        "\n",
        "# Step 1: Create and train the Lasso model\n",
        "lasso = Lasso(alpha=0.1, random_state=42)\n",
        "lasso.fit(X_train, y_train)\n",
        "\n",
        "# Step 2: Predict on test set\n",
        "lasso_pred = lasso.predict(X_test)\n",
        "\n",
        "# Step 3: Evaluate model\n",
        "lasso_rmse = np.sqrt(mean_squared_error(y_test, lasso_pred))\n",
        "lasso_r2 = r2_score(y_test, lasso_pred)\n",
        "\n",
        "# Step 4: Print results\n",
        "print(f\"Lasso Model Results:\")\n",
        "print(f\"RMSE: {lasso_rmse:.2f}\")\n",
        "print(f\"R²: {lasso_r2:.3f}\")\n",
        "\n"
      ],
      "metadata": {
        "colab": {
          "base_uri": "https://localhost:8080/"
        },
        "id": "ea7NwK3-rWDt",
        "outputId": "2ea9c602-d4f6-499c-c0a9-04d17021246a"
      },
      "execution_count": null,
      "outputs": [
        {
          "output_type": "stream",
          "name": "stdout",
          "text": [
            "Lasso Model Results:\n",
            "RMSE: 66652.25\n",
            "R²: 0.354\n"
          ]
        },
        {
          "output_type": "stream",
          "name": "stderr",
          "text": [
            "/usr/local/lib/python3.11/dist-packages/sklearn/linear_model/_coordinate_descent.py:695: ConvergenceWarning: Objective did not converge. You might want to increase the number of iterations, check the scale of the features or consider increasing regularisation. Duality gap: 1.348e+13, tolerance: 4.695e+09\n",
            "  model = cd_fast.enet_coordinate_descent(\n"
          ]
        }
      ]
    },
    {
      "cell_type": "code",
      "source": [
        "import matplotlib.pyplot as plt\n",
        "import seaborn as sns\n",
        "\n",
        "#  prediction correlation\n",
        "linreg_pred = linreg.predict(X_test)\n",
        "tree_pred = tree_model.predict(X_test)\n",
        "lasso_pred = lasso.predict(X_test)\n",
        "\n",
        "# Build DataFrame\n",
        "comparison_df = pd.DataFrame({\n",
        "    'Actual_Salary': y_test,\n",
        "    'Linear_Predicted': linreg_pred,\n",
        "    'Tree_Predicted': tree_pred,\n",
        "    'Lasso_Predicted': lasso_pred\n",
        "})\n",
        "\n",
        "# Correlation matrix for Actual vs Predictions\n",
        "corr_predictions = comparison_df.corr()\n",
        "\n",
        "# Plot it\n",
        "plt.figure(figsize=(8,6))\n",
        "sns.heatmap(corr_predictions, annot=True, cmap='viridis', fmt='.2f')\n",
        "plt.title('Correlation Between Actual and Predicted Salaries')\n",
        "plt.show()\n"
      ],
      "metadata": {
        "colab": {
          "base_uri": "https://localhost:8080/",
          "height": 545
        },
        "id": "0yjkRLcPIvHZ",
        "outputId": "6630bef4-02d5-4276-9646-71c0c2adc595"
      },
      "execution_count": null,
      "outputs": [
        {
          "output_type": "display_data",
          "data": {
            "text/plain": [
              "<Figure size 800x600 with 2 Axes>"
            ],
            "image/png": "[encoded data removed]"
          },
          "metadata": {}
        }
      ]
    },
    {
      "cell_type": "code",
      "source": [
        "# Predict using each model\n",
        "linreg_pred = linreg.predict(X_test)\n",
        "tree_pred = tree_model.predict(X_test)\n",
        "lasso_pred = lasso.predict(X_test)\n",
        "\n",
        "# Evaluate each model\n",
        "linreg_rmse = np.sqrt(mean_squared_error(y_test, linreg_pred))\n",
        "linreg_r2 = r2_score(y_test, linreg_pred)\n",
        "\n",
        "tree_rmse = np.sqrt(mean_squared_error(y_test, tree_pred))\n",
        "tree_r2 = r2_score(y_test, tree_pred)\n",
        "\n",
        "lasso_rmse = np.sqrt(mean_squared_error(y_test, lasso_pred))\n",
        "lasso_r2 = r2_score(y_test, lasso_pred)\n",
        "\n",
        "# Print side-by-side results\n",
        "print(f\"Linear Regression -> RMSE: {linreg_rmse:.2f}, R²: {linreg_r2:.3f}\")\n",
        "print(f\"Decision Tree -> RMSE: {tree_rmse:.2f}, R²: {tree_r2:.3f}\")\n",
        "print(f\"Lasso Regression -> RMSE: {lasso_rmse:.2f}, R²: {lasso_r2:.3f}\")\n",
        "\n"
      ],
      "metadata": {
        "colab": {
          "base_uri": "https://localhost:8080/"
        },
        "id": "VoFccCku9Xl0",
        "outputId": "18abb0e0-31ce-4075-addf-3d5809158ead"
      },
      "execution_count": null,
      "outputs": [
        {
          "output_type": "stream",
          "name": "stdout",
          "text": [
            "Linear Regression -> RMSE: 66652.85, R²: 0.354\n",
            "Decision Tree -> RMSE: 79853.80, R²: 0.072\n",
            "Lasso Regression -> RMSE: 66652.25, R²: 0.354\n"
          ]
        }
      ]
    },
    {
      "cell_type": "code",
      "source": [
        "import pickle\n",
        "\n",
        "# Save the trained Lasso model\n",
        "filename = '/content/lasso_salary_model.pkl'   # Save directly to /content/ folder\n",
        "pickle.dump(lasso, open(filename, 'wb'))\n",
        "\n",
        "# (Optional) Load the model back to test\n",
        "loaded_model = pickle.load(open(filename, 'rb'))\n",
        "\n",
        "# (Optional) Confirm the model loads and scores the same\n",
        "print(f\"Loaded model test R²: {loaded_model.score(X_test, y_test):.3f}\")\n"
      ],
      "metadata": {
        "id": "7qhkN-ELkfnB",
        "colab": {
          "base_uri": "https://localhost:8080/"
        },
        "outputId": "c8ed2a17-ed67-4e4d-e560-1409522c432b"
      },
      "execution_count": null,
      "outputs": [
        {
          "output_type": "stream",
          "name": "stdout",
          "text": [
            "Loaded model test R²: 0.354\n"
          ]
        }
      ]
    },
    {
      "cell_type": "code",
      "source": [
        "from google.colab import files\n",
        "\n",
        "# Download the saved Lasso model\n",
        "files.download('/content/lasso_salary_model.pkl')\n"
      ],
      "metadata": {
        "colab": {
          "base_uri": "https://localhost:8080/",
          "height": 17
        },
        "id": "PsO6rNyOAbIk",
        "outputId": "9c587c14-fe31-4897-8bca-bbea5933aaa9"
      },
      "execution_count": null,
      "outputs": [
        {
          "output_type": "display_data",
          "data": {
            "text/plain": [
              "<IPython.core.display.Javascript object>"
            ],
            "application/javascript": [
              "\n",
              "    async function download(id, filename, size) {\n",
              "      if (!google.colab.kernel.accessAllowed) {\n",
              "        return;\n",
              "      }\n",
              "      const div = document.createElement('div');\n",
              "      const label = document.createElement('label');\n",
              "      label.textContent = `Downloading \"${filename}\": `;\n",
              "      div.appendChild(label);\n",
              "      const progress = document.createElement('progress');\n",
              "      progress.max = size;\n",
              "      div.appendChild(progress);\n",
              "      document.body.appendChild(div);\n",
              "\n",
              "      const buffers = [];\n",
              "      let downloaded = 0;\n",
              "\n",
              "      const channel = await google.colab.kernel.comms.open(id);\n",
              "      // Send a message to notify the kernel that we're ready.\n",
              "      channel.send({})\n",
              "\n",
              "      for await (const message of channel.messages) {\n",
              "        // Send a message to notify the kernel that we're ready.\n",
              "        channel.send({})\n",
              "        if (message.buffers) {\n",
              "          for (const buffer of message.buffers) {\n",
              "            buffers.push(buffer);\n",
              "            downloaded += buffer.byteLength;\n",
              "            progress.value = downloaded;\n",
              "          }\n",
              "        }\n",
              "      }\n",
              "      const blob = new Blob(buffers, {type: 'application/binary'});\n",
              "      const a = document.createElement('a');\n",
              "      a.href = window.URL.createObjectURL(blob);\n",
              "      a.download = filename;\n",
              "      div.appendChild(a);\n",
              "      a.click();\n",
              "      div.remove();\n",
              "    }\n",
              "  "
            ]
          },
          "metadata": {}
        },
        {
          "output_type": "display_data",
          "data": {
            "text/plain": [
              "<IPython.core.display.Javascript object>"
            ],
            "application/javascript": [
              "download(\"download_f52e5540-6d14-4056-9de9-c4eb8e6f9019\", \"lasso_salary_model.pkl\", 2385)"
            ]
          },
          "metadata": {}
        }
      ]
    }
  ]
}